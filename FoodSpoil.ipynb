{
 "cells": [
  {
   "cell_type": "code",
   "execution_count": 1,
   "id": "405eb48a",
   "metadata": {},
   "outputs": [],
   "source": [
    "import findspark\n",
    "findspark.init('/home/orkun/spark-3.2.1-bin-hadoop2.7/')"
   ]
  },
  {
   "cell_type": "code",
   "execution_count": null,
   "id": "69790c85",
   "metadata": {},
   "outputs": [],
   "source": [
    "from pyspark.sql import SparkSession\n",
    "spark = SparkSession.builder.getOrCreate()"
   ]
  },
  {
   "cell_type": "code",
   "execution_count": 3,
   "id": "665e4f17",
   "metadata": {},
   "outputs": [],
   "source": [
    "data = spark.read.csv('dog_food.csv', inferSchema=True, header=True)"
   ]
  },
  {
   "cell_type": "code",
   "execution_count": 7,
   "id": "0bedf5ce",
   "metadata": {},
   "outputs": [
    {
     "name": "stdout",
     "output_type": "stream",
     "text": [
      "root\n",
      " |-- A: integer (nullable = true)\n",
      " |-- B: integer (nullable = true)\n",
      " |-- C: double (nullable = true)\n",
      " |-- D: integer (nullable = true)\n",
      " |-- Spoiled: double (nullable = true)\n",
      "\n"
     ]
    },
    {
     "data": {
      "text/plain": [
       "['A', 'B', 'C', 'D', 'Spoiled']"
      ]
     },
     "execution_count": 7,
     "metadata": {},
     "output_type": "execute_result"
    }
   ],
   "source": [
    "data.printSchema()\n",
    "data.columns"
   ]
  },
  {
   "cell_type": "code",
   "execution_count": 6,
   "id": "23b7e8f2",
   "metadata": {},
   "outputs": [],
   "source": [
    "from pyspark.ml.classification import RandomForestClassifier\n",
    "from pyspark.ml.feature import VectorAssembler"
   ]
  },
  {
   "cell_type": "code",
   "execution_count": 8,
   "id": "4d2dca17",
   "metadata": {},
   "outputs": [],
   "source": [
    "assembler = VectorAssembler(inputCols=['A', 'B', 'C', 'D'], outputCol='features')"
   ]
  },
  {
   "cell_type": "code",
   "execution_count": 9,
   "id": "34a472b7",
   "metadata": {},
   "outputs": [],
   "source": [
    "feat_data = assembler.transform(data)"
   ]
  },
  {
   "cell_type": "code",
   "execution_count": 11,
   "id": "d102d869",
   "metadata": {},
   "outputs": [
    {
     "data": {
      "text/plain": [
       "['A', 'B', 'C', 'D', 'Spoiled', 'features']"
      ]
     },
     "execution_count": 11,
     "metadata": {},
     "output_type": "execute_result"
    }
   ],
   "source": [
    "feat_data.columns"
   ]
  },
  {
   "cell_type": "code",
   "execution_count": 12,
   "id": "ced90c8c",
   "metadata": {},
   "outputs": [],
   "source": [
    "final_data = feat_data.select(['Spoiled', 'features'])"
   ]
  },
  {
   "cell_type": "code",
   "execution_count": 13,
   "id": "a97b8cb0",
   "metadata": {},
   "outputs": [],
   "source": [
    "rfc_model = RandomForestClassifier(featuresCol='features', labelCol='Spoiled')"
   ]
  },
  {
   "cell_type": "code",
   "execution_count": 14,
   "id": "020e5521",
   "metadata": {},
   "outputs": [],
   "source": [
    "fit_rfc = rfc_model.fit(final_data)"
   ]
  },
  {
   "cell_type": "code",
   "execution_count": 18,
   "id": "71e74466",
   "metadata": {},
   "outputs": [],
   "source": [
    "from pyspark.ml.evaluation import (BinaryClassificationEvaluator, MulticlassClassificationEvaluator)"
   ]
  },
  {
   "cell_type": "code",
   "execution_count": 19,
   "id": "0f98a669",
   "metadata": {},
   "outputs": [],
   "source": [
    "my_eval = BinaryClassificationEvaluator(labelCol='Spoiled')\n",
    "my_eval2 = MulticlassClassificationEvaluator(labelCol='Spoiled')"
   ]
  },
  {
   "cell_type": "code",
   "execution_count": 22,
   "id": "2425c54b",
   "metadata": {},
   "outputs": [
    {
     "data": {
      "text/plain": [
       "SparseVector(4, {0: 0.017, 1: 0.0203, 2: 0.9414, 3: 0.0213})"
      ]
     },
     "execution_count": 22,
     "metadata": {},
     "output_type": "execute_result"
    }
   ],
   "source": [
    "fit_rfc.featureImportances"
   ]
  },
  {
   "cell_type": "code",
   "execution_count": null,
   "id": "e925a8d8",
   "metadata": {},
   "outputs": [],
   "source": []
  }
 ],
 "metadata": {
  "kernelspec": {
   "display_name": "Python 3 (ipykernel)",
   "language": "python",
   "name": "python3"
  },
  "language_info": {
   "codemirror_mode": {
    "name": "ipython",
    "version": 3
   },
   "file_extension": ".py",
   "mimetype": "text/x-python",
   "name": "python",
   "nbconvert_exporter": "python",
   "pygments_lexer": "ipython3",
   "version": "3.8.10"
  }
 },
 "nbformat": 4,
 "nbformat_minor": 5
}
